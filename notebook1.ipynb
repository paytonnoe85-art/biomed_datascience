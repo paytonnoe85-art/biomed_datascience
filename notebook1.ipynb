{
  "nbformat": 4,
  "nbformat_minor": 0,
  "metadata": {
    "colab": {
      "provenance": [],
      "authorship_tag": "ABX9TyOhC2WLMgrKw4j5UKiUzkgj",
      "include_colab_link": true
    },
    "kernelspec": {
      "name": "python3",
      "display_name": "Python 3"
    },
    "language_info": {
      "name": "python"
    }
  },
  "cells": [
    {
      "cell_type": "markdown",
      "metadata": {
        "id": "view-in-github",
        "colab_type": "text"
      },
      "source": [
        "<a href=\"https://colab.research.google.com/github/paytonnoe85-art/biomed_datascience/blob/main/notebook1.ipynb\" target=\"_parent\"><img src=\"https://colab.research.google.com/assets/colab-badge.svg\" alt=\"Open In Colab\"/></a>"
      ]
    },
    {
      "cell_type": "code",
      "execution_count": 1,
      "metadata": {
        "id": "0QFbQV9_80KR",
        "colab": {
          "base_uri": "https://localhost:8080/"
        },
        "outputId": "ba1eb26c-7381-4915-a8af-3a98d3d26c9f"
      },
      "outputs": [
        {
          "output_type": "stream",
          "name": "stdout",
          "text": [
            "8\n"
          ]
        }
      ],
      "source": [
        "print (4+4)"
      ]
    },
    {
      "cell_type": "markdown",
      "source": [
        "This is a text chunk."
      ],
      "metadata": {
        "id": "IUAf_5DK9FoZ"
      }
    }
  ]
}